{
 "cells": [
  {
   "cell_type": "markdown",
   "id": "ca8cca9c-8b7b-4516-8c2b-63fbd334f2a1",
   "metadata": {},
   "source": [
    "# Wine Quality Data Set\n",
    "<img src=\"https://archive.ics.uci.edu/ml/assets/MLimages/Large186.jpg\" width = \"100\"/>"
   ]
  },
  {
   "cell_type": "code",
   "execution_count": 1,
   "id": "ded3a423-d2c0-4746-ab71-df985dd24c43",
   "metadata": {},
   "outputs": [
    {
     "name": "stderr",
     "output_type": "stream",
     "text": [
      "── \u001b[1mAttaching packages\u001b[22m ─────────────────────────────────────── tidyverse 1.3.1 ──\n",
      "\n",
      "\u001b[32m✔\u001b[39m \u001b[34mggplot2\u001b[39m 3.3.6     \u001b[32m✔\u001b[39m \u001b[34mpurrr  \u001b[39m 0.3.4\n",
      "\u001b[32m✔\u001b[39m \u001b[34mtibble \u001b[39m 3.1.7     \u001b[32m✔\u001b[39m \u001b[34mdplyr  \u001b[39m 1.0.9\n",
      "\u001b[32m✔\u001b[39m \u001b[34mtidyr  \u001b[39m 1.2.0     \u001b[32m✔\u001b[39m \u001b[34mstringr\u001b[39m 1.4.0\n",
      "\u001b[32m✔\u001b[39m \u001b[34mreadr  \u001b[39m 2.1.2     \u001b[32m✔\u001b[39m \u001b[34mforcats\u001b[39m 0.5.1\n",
      "\n",
      "── \u001b[1mConflicts\u001b[22m ────────────────────────────────────────── tidyverse_conflicts() ──\n",
      "\u001b[31m✖\u001b[39m \u001b[34mdplyr\u001b[39m::\u001b[32mfilter()\u001b[39m masks \u001b[34mstats\u001b[39m::filter()\n",
      "\u001b[31m✖\u001b[39m \u001b[34mdplyr\u001b[39m::\u001b[32mlag()\u001b[39m    masks \u001b[34mstats\u001b[39m::lag()\n",
      "\n",
      "── \u001b[1mAttaching packages\u001b[22m ────────────────────────────────────── tidymodels 1.0.0 ──\n",
      "\n",
      "\u001b[32m✔\u001b[39m \u001b[34mbroom       \u001b[39m 1.0.0     \u001b[32m✔\u001b[39m \u001b[34mrsample     \u001b[39m 1.0.0\n",
      "\u001b[32m✔\u001b[39m \u001b[34mdials       \u001b[39m 1.0.0     \u001b[32m✔\u001b[39m \u001b[34mtune        \u001b[39m 1.0.0\n",
      "\u001b[32m✔\u001b[39m \u001b[34minfer       \u001b[39m 1.0.2     \u001b[32m✔\u001b[39m \u001b[34mworkflows   \u001b[39m 1.0.0\n",
      "\u001b[32m✔\u001b[39m \u001b[34mmodeldata   \u001b[39m 1.0.0     \u001b[32m✔\u001b[39m \u001b[34mworkflowsets\u001b[39m 1.0.0\n",
      "\u001b[32m✔\u001b[39m \u001b[34mparsnip     \u001b[39m 1.0.0     \u001b[32m✔\u001b[39m \u001b[34myardstick   \u001b[39m 1.0.0\n",
      "\u001b[32m✔\u001b[39m \u001b[34mrecipes     \u001b[39m 1.0.1     \n",
      "\n",
      "── \u001b[1mConflicts\u001b[22m ───────────────────────────────────────── tidymodels_conflicts() ──\n",
      "\u001b[31m✖\u001b[39m \u001b[34mscales\u001b[39m::\u001b[32mdiscard()\u001b[39m masks \u001b[34mpurrr\u001b[39m::discard()\n",
      "\u001b[31m✖\u001b[39m \u001b[34mdplyr\u001b[39m::\u001b[32mfilter()\u001b[39m   masks \u001b[34mstats\u001b[39m::filter()\n",
      "\u001b[31m✖\u001b[39m \u001b[34mrecipes\u001b[39m::\u001b[32mfixed()\u001b[39m  masks \u001b[34mstringr\u001b[39m::fixed()\n",
      "\u001b[31m✖\u001b[39m \u001b[34mdplyr\u001b[39m::\u001b[32mlag()\u001b[39m      masks \u001b[34mstats\u001b[39m::lag()\n",
      "\u001b[31m✖\u001b[39m \u001b[34myardstick\u001b[39m::\u001b[32mspec()\u001b[39m masks \u001b[34mreadr\u001b[39m::spec()\n",
      "\u001b[31m✖\u001b[39m \u001b[34mrecipes\u001b[39m::\u001b[32mstep()\u001b[39m   masks \u001b[34mstats\u001b[39m::step()\n",
      "\u001b[34m•\u001b[39m Use suppressPackageStartupMessages() to eliminate package startup messages\n",
      "\n"
     ]
    }
   ],
   "source": [
    "library(repr)\n",
    "library(tidyverse)\n",
    "library(tidymodels)"
   ]
  },
  {
   "cell_type": "code",
   "execution_count": 2,
   "id": "b4719527-cc48-4474-a9de-96329f6ba3fe",
   "metadata": {},
   "outputs": [
    {
     "name": "stderr",
     "output_type": "stream",
     "text": [
      "\u001b[36mℹ\u001b[39m Using \u001b[34m\u001b[34m\"','\"\u001b[34m\u001b[39m as decimal and \u001b[34m\u001b[34m\"'.'\"\u001b[34m\u001b[39m as grouping mark. Use `read_delim()` for more control.\n",
      "\n",
      "Warning message:\n",
      "“One or more parsing issues, see `problems()` for details”\n",
      "\u001b[1mRows: \u001b[22m\u001b[34m1599\u001b[39m \u001b[1mColumns: \u001b[22m\u001b[34m12\u001b[39m\n",
      "\u001b[36m──\u001b[39m \u001b[1mColumn specification\u001b[22m \u001b[36m────────────────────────────────────────────────────────\u001b[39m\n",
      "\u001b[1mDelimiter:\u001b[22m \";\"\n",
      "\u001b[31mchr\u001b[39m (5): volatile acidity, citric acid, chlorides, density, sulphates\n",
      "\u001b[32mdbl\u001b[39m (2): total sulfur dioxide, quality\n",
      "\n",
      "\u001b[36mℹ\u001b[39m Use `spec()` to retrieve the full column specification for this data.\n",
      "\u001b[36mℹ\u001b[39m Specify the column types or set `show_col_types = FALSE` to quiet this message.\n"
     ]
    },
    {
     "data": {
      "text/html": [
       "<table class=\"dataframe\">\n",
       "<caption>A spec_tbl_df: 6 × 12</caption>\n",
       "<thead>\n",
       "\t<tr><th scope=col>fixed acidity</th><th scope=col>volatile acidity</th><th scope=col>citric acid</th><th scope=col>residual sugar</th><th scope=col>chlorides</th><th scope=col>free sulfur dioxide</th><th scope=col>total sulfur dioxide</th><th scope=col>density</th><th scope=col>pH</th><th scope=col>sulphates</th><th scope=col>alcohol</th><th scope=col>quality</th></tr>\n",
       "\t<tr><th scope=col>&lt;dbl&gt;</th><th scope=col>&lt;chr&gt;</th><th scope=col>&lt;chr&gt;</th><th scope=col>&lt;dbl&gt;</th><th scope=col>&lt;chr&gt;</th><th scope=col>&lt;dbl&gt;</th><th scope=col>&lt;dbl&gt;</th><th scope=col>&lt;chr&gt;</th><th scope=col>&lt;dbl&gt;</th><th scope=col>&lt;chr&gt;</th><th scope=col>&lt;dbl&gt;</th><th scope=col>&lt;dbl&gt;</th></tr>\n",
       "</thead>\n",
       "<tbody>\n",
       "\t<tr><td> 74</td><td>0.7 </td><td>0   </td><td>19</td><td>0.076</td><td>11</td><td>34</td><td>0.9978</td><td>351</td><td>0.56</td><td>94</td><td>5</td></tr>\n",
       "\t<tr><td> 78</td><td>0.88</td><td>0   </td><td>26</td><td>0.098</td><td>25</td><td>67</td><td>0.9968</td><td> 32</td><td>0.68</td><td>98</td><td>5</td></tr>\n",
       "\t<tr><td> 78</td><td>0.76</td><td>0.04</td><td>23</td><td>0.092</td><td>15</td><td>54</td><td>0.997 </td><td>326</td><td>0.65</td><td>98</td><td>5</td></tr>\n",
       "\t<tr><td>112</td><td>0.28</td><td>0.56</td><td>19</td><td>0.075</td><td>17</td><td>60</td><td>0.998 </td><td>316</td><td>0.58</td><td>98</td><td>6</td></tr>\n",
       "\t<tr><td> 74</td><td>0.7 </td><td>0   </td><td>19</td><td>0.076</td><td>11</td><td>34</td><td>0.9978</td><td>351</td><td>0.56</td><td>94</td><td>5</td></tr>\n",
       "\t<tr><td> 74</td><td>0.66</td><td>0   </td><td>18</td><td>0.075</td><td>13</td><td>40</td><td>0.9978</td><td>351</td><td>0.56</td><td>94</td><td>5</td></tr>\n",
       "</tbody>\n",
       "</table>\n"
      ],
      "text/latex": [
       "A spec\\_tbl\\_df: 6 × 12\n",
       "\\begin{tabular}{llllllllllll}\n",
       " fixed acidity & volatile acidity & citric acid & residual sugar & chlorides & free sulfur dioxide & total sulfur dioxide & density & pH & sulphates & alcohol & quality\\\\\n",
       " <dbl> & <chr> & <chr> & <dbl> & <chr> & <dbl> & <dbl> & <chr> & <dbl> & <chr> & <dbl> & <dbl>\\\\\n",
       "\\hline\n",
       "\t  74 & 0.7  & 0    & 19 & 0.076 & 11 & 34 & 0.9978 & 351 & 0.56 & 94 & 5\\\\\n",
       "\t  78 & 0.88 & 0    & 26 & 0.098 & 25 & 67 & 0.9968 &  32 & 0.68 & 98 & 5\\\\\n",
       "\t  78 & 0.76 & 0.04 & 23 & 0.092 & 15 & 54 & 0.997  & 326 & 0.65 & 98 & 5\\\\\n",
       "\t 112 & 0.28 & 0.56 & 19 & 0.075 & 17 & 60 & 0.998  & 316 & 0.58 & 98 & 6\\\\\n",
       "\t  74 & 0.7  & 0    & 19 & 0.076 & 11 & 34 & 0.9978 & 351 & 0.56 & 94 & 5\\\\\n",
       "\t  74 & 0.66 & 0    & 18 & 0.075 & 13 & 40 & 0.9978 & 351 & 0.56 & 94 & 5\\\\\n",
       "\\end{tabular}\n"
      ],
      "text/markdown": [
       "\n",
       "A spec_tbl_df: 6 × 12\n",
       "\n",
       "| fixed acidity &lt;dbl&gt; | volatile acidity &lt;chr&gt; | citric acid &lt;chr&gt; | residual sugar &lt;dbl&gt; | chlorides &lt;chr&gt; | free sulfur dioxide &lt;dbl&gt; | total sulfur dioxide &lt;dbl&gt; | density &lt;chr&gt; | pH &lt;dbl&gt; | sulphates &lt;chr&gt; | alcohol &lt;dbl&gt; | quality &lt;dbl&gt; |\n",
       "|---|---|---|---|---|---|---|---|---|---|---|---|\n",
       "|  74 | 0.7  | 0    | 19 | 0.076 | 11 | 34 | 0.9978 | 351 | 0.56 | 94 | 5 |\n",
       "|  78 | 0.88 | 0    | 26 | 0.098 | 25 | 67 | 0.9968 |  32 | 0.68 | 98 | 5 |\n",
       "|  78 | 0.76 | 0.04 | 23 | 0.092 | 15 | 54 | 0.997  | 326 | 0.65 | 98 | 5 |\n",
       "| 112 | 0.28 | 0.56 | 19 | 0.075 | 17 | 60 | 0.998  | 316 | 0.58 | 98 | 6 |\n",
       "|  74 | 0.7  | 0    | 19 | 0.076 | 11 | 34 | 0.9978 | 351 | 0.56 | 94 | 5 |\n",
       "|  74 | 0.66 | 0    | 18 | 0.075 | 13 | 40 | 0.9978 | 351 | 0.56 | 94 | 5 |\n",
       "\n"
      ],
      "text/plain": [
       "  fixed acidity volatile acidity citric acid residual sugar chlorides\n",
       "1  74           0.7              0           19             0.076    \n",
       "2  78           0.88             0           26             0.098    \n",
       "3  78           0.76             0.04        23             0.092    \n",
       "4 112           0.28             0.56        19             0.075    \n",
       "5  74           0.7              0           19             0.076    \n",
       "6  74           0.66             0           18             0.075    \n",
       "  free sulfur dioxide total sulfur dioxide density pH  sulphates alcohol\n",
       "1 11                  34                   0.9978  351 0.56      94     \n",
       "2 25                  67                   0.9968   32 0.68      98     \n",
       "3 15                  54                   0.997   326 0.65      98     \n",
       "4 17                  60                   0.998   316 0.58      98     \n",
       "5 11                  34                   0.9978  351 0.56      94     \n",
       "6 13                  40                   0.9978  351 0.56      94     \n",
       "  quality\n",
       "1 5      \n",
       "2 5      \n",
       "3 5      \n",
       "4 6      \n",
       "5 5      \n",
       "6 5      "
      ]
     },
     "metadata": {},
     "output_type": "display_data"
    }
   ],
   "source": [
    "wine_data <- read_csv2(\"winequality-red.csv\")\n",
    "slice(wine_data, 1:6)"
   ]
  },
  {
   "cell_type": "code",
   "execution_count": 3,
   "id": "8d876e93-2ec2-4287-93ce-8e77a51ea1b3",
   "metadata": {},
   "outputs": [
    {
     "data": {
      "text/html": [
       "<table class=\"dataframe\">\n",
       "<caption>A spec_tbl_df: 6 × 12</caption>\n",
       "<thead>\n",
       "\t<tr><th scope=col>fixed.acidity</th><th scope=col>volatile.acidity</th><th scope=col>citric.acid</th><th scope=col>residual.sugar</th><th scope=col>chlorides</th><th scope=col>free.sulfur.dioxide</th><th scope=col>total.sulfur.dioxide</th><th scope=col>density</th><th scope=col>pH</th><th scope=col>sulphates</th><th scope=col>alcohol</th><th scope=col>quality</th></tr>\n",
       "\t<tr><th scope=col>&lt;dbl&gt;</th><th scope=col>&lt;chr&gt;</th><th scope=col>&lt;chr&gt;</th><th scope=col>&lt;dbl&gt;</th><th scope=col>&lt;chr&gt;</th><th scope=col>&lt;dbl&gt;</th><th scope=col>&lt;dbl&gt;</th><th scope=col>&lt;chr&gt;</th><th scope=col>&lt;dbl&gt;</th><th scope=col>&lt;chr&gt;</th><th scope=col>&lt;dbl&gt;</th><th scope=col>&lt;dbl&gt;</th></tr>\n",
       "</thead>\n",
       "<tbody>\n",
       "\t<tr><td> 74</td><td>0.7 </td><td>0   </td><td>19</td><td>0.076</td><td>11</td><td>34</td><td>0.9978</td><td>351</td><td>0.56</td><td>94</td><td>5</td></tr>\n",
       "\t<tr><td> 78</td><td>0.88</td><td>0   </td><td>26</td><td>0.098</td><td>25</td><td>67</td><td>0.9968</td><td> 32</td><td>0.68</td><td>98</td><td>5</td></tr>\n",
       "\t<tr><td> 78</td><td>0.76</td><td>0.04</td><td>23</td><td>0.092</td><td>15</td><td>54</td><td>0.997 </td><td>326</td><td>0.65</td><td>98</td><td>5</td></tr>\n",
       "\t<tr><td>112</td><td>0.28</td><td>0.56</td><td>19</td><td>0.075</td><td>17</td><td>60</td><td>0.998 </td><td>316</td><td>0.58</td><td>98</td><td>6</td></tr>\n",
       "\t<tr><td> 74</td><td>0.7 </td><td>0   </td><td>19</td><td>0.076</td><td>11</td><td>34</td><td>0.9978</td><td>351</td><td>0.56</td><td>94</td><td>5</td></tr>\n",
       "\t<tr><td> 74</td><td>0.66</td><td>0   </td><td>18</td><td>0.075</td><td>13</td><td>40</td><td>0.9978</td><td>351</td><td>0.56</td><td>94</td><td>5</td></tr>\n",
       "</tbody>\n",
       "</table>\n"
      ],
      "text/latex": [
       "A spec\\_tbl\\_df: 6 × 12\n",
       "\\begin{tabular}{llllllllllll}\n",
       " fixed.acidity & volatile.acidity & citric.acid & residual.sugar & chlorides & free.sulfur.dioxide & total.sulfur.dioxide & density & pH & sulphates & alcohol & quality\\\\\n",
       " <dbl> & <chr> & <chr> & <dbl> & <chr> & <dbl> & <dbl> & <chr> & <dbl> & <chr> & <dbl> & <dbl>\\\\\n",
       "\\hline\n",
       "\t  74 & 0.7  & 0    & 19 & 0.076 & 11 & 34 & 0.9978 & 351 & 0.56 & 94 & 5\\\\\n",
       "\t  78 & 0.88 & 0    & 26 & 0.098 & 25 & 67 & 0.9968 &  32 & 0.68 & 98 & 5\\\\\n",
       "\t  78 & 0.76 & 0.04 & 23 & 0.092 & 15 & 54 & 0.997  & 326 & 0.65 & 98 & 5\\\\\n",
       "\t 112 & 0.28 & 0.56 & 19 & 0.075 & 17 & 60 & 0.998  & 316 & 0.58 & 98 & 6\\\\\n",
       "\t  74 & 0.7  & 0    & 19 & 0.076 & 11 & 34 & 0.9978 & 351 & 0.56 & 94 & 5\\\\\n",
       "\t  74 & 0.66 & 0    & 18 & 0.075 & 13 & 40 & 0.9978 & 351 & 0.56 & 94 & 5\\\\\n",
       "\\end{tabular}\n"
      ],
      "text/markdown": [
       "\n",
       "A spec_tbl_df: 6 × 12\n",
       "\n",
       "| fixed.acidity &lt;dbl&gt; | volatile.acidity &lt;chr&gt; | citric.acid &lt;chr&gt; | residual.sugar &lt;dbl&gt; | chlorides &lt;chr&gt; | free.sulfur.dioxide &lt;dbl&gt; | total.sulfur.dioxide &lt;dbl&gt; | density &lt;chr&gt; | pH &lt;dbl&gt; | sulphates &lt;chr&gt; | alcohol &lt;dbl&gt; | quality &lt;dbl&gt; |\n",
       "|---|---|---|---|---|---|---|---|---|---|---|---|\n",
       "|  74 | 0.7  | 0    | 19 | 0.076 | 11 | 34 | 0.9978 | 351 | 0.56 | 94 | 5 |\n",
       "|  78 | 0.88 | 0    | 26 | 0.098 | 25 | 67 | 0.9968 |  32 | 0.68 | 98 | 5 |\n",
       "|  78 | 0.76 | 0.04 | 23 | 0.092 | 15 | 54 | 0.997  | 326 | 0.65 | 98 | 5 |\n",
       "| 112 | 0.28 | 0.56 | 19 | 0.075 | 17 | 60 | 0.998  | 316 | 0.58 | 98 | 6 |\n",
       "|  74 | 0.7  | 0    | 19 | 0.076 | 11 | 34 | 0.9978 | 351 | 0.56 | 94 | 5 |\n",
       "|  74 | 0.66 | 0    | 18 | 0.075 | 13 | 40 | 0.9978 | 351 | 0.56 | 94 | 5 |\n",
       "\n"
      ],
      "text/plain": [
       "  fixed.acidity volatile.acidity citric.acid residual.sugar chlorides\n",
       "1  74           0.7              0           19             0.076    \n",
       "2  78           0.88             0           26             0.098    \n",
       "3  78           0.76             0.04        23             0.092    \n",
       "4 112           0.28             0.56        19             0.075    \n",
       "5  74           0.7              0           19             0.076    \n",
       "6  74           0.66             0           18             0.075    \n",
       "  free.sulfur.dioxide total.sulfur.dioxide density pH  sulphates alcohol\n",
       "1 11                  34                   0.9978  351 0.56      94     \n",
       "2 25                  67                   0.9968   32 0.68      98     \n",
       "3 15                  54                   0.997   326 0.65      98     \n",
       "4 17                  60                   0.998   316 0.58      98     \n",
       "5 11                  34                   0.9978  351 0.56      94     \n",
       "6 13                  40                   0.9978  351 0.56      94     \n",
       "  quality\n",
       "1 5      \n",
       "2 5      \n",
       "3 5      \n",
       "4 6      \n",
       "5 5      \n",
       "6 5      "
      ]
     },
     "metadata": {},
     "output_type": "display_data"
    }
   ],
   "source": [
    "colnames(wine_data) <- make.names(colnames(wine_data))\n",
    "slice(wine_data, 1:6)"
   ]
  },
  {
   "cell_type": "code",
   "execution_count": 4,
   "id": "b72ab550-cfe6-47b2-b1f0-990ade43b12e",
   "metadata": {},
   "outputs": [
    {
     "data": {
      "text/html": [
       "<table class=\"dataframe\">\n",
       "<caption>A tibble: 6 × 12</caption>\n",
       "<thead>\n",
       "\t<tr><th scope=col>fixed.acidity</th><th scope=col>volatile.acidity</th><th scope=col>citric.acid</th><th scope=col>residual.sugar</th><th scope=col>chlorides</th><th scope=col>free.sulfur.dioxide</th><th scope=col>total.sulfur.dioxide</th><th scope=col>density</th><th scope=col>pH</th><th scope=col>sulphates</th><th scope=col>alcohol</th><th scope=col>quality</th></tr>\n",
       "\t<tr><th scope=col>&lt;dbl&gt;</th><th scope=col>&lt;dbl&gt;</th><th scope=col>&lt;dbl&gt;</th><th scope=col>&lt;dbl&gt;</th><th scope=col>&lt;dbl&gt;</th><th scope=col>&lt;dbl&gt;</th><th scope=col>&lt;dbl&gt;</th><th scope=col>&lt;dbl&gt;</th><th scope=col>&lt;dbl&gt;</th><th scope=col>&lt;dbl&gt;</th><th scope=col>&lt;dbl&gt;</th><th scope=col>&lt;fct&gt;</th></tr>\n",
       "</thead>\n",
       "<tbody>\n",
       "\t<tr><td> 74</td><td>0.70</td><td>0.00</td><td>19</td><td>0.076</td><td>11</td><td>34</td><td>0.9978</td><td>351</td><td>0.56</td><td>94</td><td>5</td></tr>\n",
       "\t<tr><td> 78</td><td>0.88</td><td>0.00</td><td>26</td><td>0.098</td><td>25</td><td>67</td><td>0.9968</td><td> 32</td><td>0.68</td><td>98</td><td>5</td></tr>\n",
       "\t<tr><td> 78</td><td>0.76</td><td>0.04</td><td>23</td><td>0.092</td><td>15</td><td>54</td><td>0.9970</td><td>326</td><td>0.65</td><td>98</td><td>5</td></tr>\n",
       "\t<tr><td>112</td><td>0.28</td><td>0.56</td><td>19</td><td>0.075</td><td>17</td><td>60</td><td>0.9980</td><td>316</td><td>0.58</td><td>98</td><td>6</td></tr>\n",
       "\t<tr><td> 74</td><td>0.70</td><td>0.00</td><td>19</td><td>0.076</td><td>11</td><td>34</td><td>0.9978</td><td>351</td><td>0.56</td><td>94</td><td>5</td></tr>\n",
       "\t<tr><td> 74</td><td>0.66</td><td>0.00</td><td>18</td><td>0.075</td><td>13</td><td>40</td><td>0.9978</td><td>351</td><td>0.56</td><td>94</td><td>5</td></tr>\n",
       "</tbody>\n",
       "</table>\n"
      ],
      "text/latex": [
       "A tibble: 6 × 12\n",
       "\\begin{tabular}{llllllllllll}\n",
       " fixed.acidity & volatile.acidity & citric.acid & residual.sugar & chlorides & free.sulfur.dioxide & total.sulfur.dioxide & density & pH & sulphates & alcohol & quality\\\\\n",
       " <dbl> & <dbl> & <dbl> & <dbl> & <dbl> & <dbl> & <dbl> & <dbl> & <dbl> & <dbl> & <dbl> & <fct>\\\\\n",
       "\\hline\n",
       "\t  74 & 0.70 & 0.00 & 19 & 0.076 & 11 & 34 & 0.9978 & 351 & 0.56 & 94 & 5\\\\\n",
       "\t  78 & 0.88 & 0.00 & 26 & 0.098 & 25 & 67 & 0.9968 &  32 & 0.68 & 98 & 5\\\\\n",
       "\t  78 & 0.76 & 0.04 & 23 & 0.092 & 15 & 54 & 0.9970 & 326 & 0.65 & 98 & 5\\\\\n",
       "\t 112 & 0.28 & 0.56 & 19 & 0.075 & 17 & 60 & 0.9980 & 316 & 0.58 & 98 & 6\\\\\n",
       "\t  74 & 0.70 & 0.00 & 19 & 0.076 & 11 & 34 & 0.9978 & 351 & 0.56 & 94 & 5\\\\\n",
       "\t  74 & 0.66 & 0.00 & 18 & 0.075 & 13 & 40 & 0.9978 & 351 & 0.56 & 94 & 5\\\\\n",
       "\\end{tabular}\n"
      ],
      "text/markdown": [
       "\n",
       "A tibble: 6 × 12\n",
       "\n",
       "| fixed.acidity &lt;dbl&gt; | volatile.acidity &lt;dbl&gt; | citric.acid &lt;dbl&gt; | residual.sugar &lt;dbl&gt; | chlorides &lt;dbl&gt; | free.sulfur.dioxide &lt;dbl&gt; | total.sulfur.dioxide &lt;dbl&gt; | density &lt;dbl&gt; | pH &lt;dbl&gt; | sulphates &lt;dbl&gt; | alcohol &lt;dbl&gt; | quality &lt;fct&gt; |\n",
       "|---|---|---|---|---|---|---|---|---|---|---|---|\n",
       "|  74 | 0.70 | 0.00 | 19 | 0.076 | 11 | 34 | 0.9978 | 351 | 0.56 | 94 | 5 |\n",
       "|  78 | 0.88 | 0.00 | 26 | 0.098 | 25 | 67 | 0.9968 |  32 | 0.68 | 98 | 5 |\n",
       "|  78 | 0.76 | 0.04 | 23 | 0.092 | 15 | 54 | 0.9970 | 326 | 0.65 | 98 | 5 |\n",
       "| 112 | 0.28 | 0.56 | 19 | 0.075 | 17 | 60 | 0.9980 | 316 | 0.58 | 98 | 6 |\n",
       "|  74 | 0.70 | 0.00 | 19 | 0.076 | 11 | 34 | 0.9978 | 351 | 0.56 | 94 | 5 |\n",
       "|  74 | 0.66 | 0.00 | 18 | 0.075 | 13 | 40 | 0.9978 | 351 | 0.56 | 94 | 5 |\n",
       "\n"
      ],
      "text/plain": [
       "  fixed.acidity volatile.acidity citric.acid residual.sugar chlorides\n",
       "1  74           0.70             0.00        19             0.076    \n",
       "2  78           0.88             0.00        26             0.098    \n",
       "3  78           0.76             0.04        23             0.092    \n",
       "4 112           0.28             0.56        19             0.075    \n",
       "5  74           0.70             0.00        19             0.076    \n",
       "6  74           0.66             0.00        18             0.075    \n",
       "  free.sulfur.dioxide total.sulfur.dioxide density pH  sulphates alcohol\n",
       "1 11                  34                   0.9978  351 0.56      94     \n",
       "2 25                  67                   0.9968   32 0.68      98     \n",
       "3 15                  54                   0.9970  326 0.65      98     \n",
       "4 17                  60                   0.9980  316 0.58      98     \n",
       "5 11                  34                   0.9978  351 0.56      94     \n",
       "6 13                  40                   0.9978  351 0.56      94     \n",
       "  quality\n",
       "1 5      \n",
       "2 5      \n",
       "3 5      \n",
       "4 6      \n",
       "5 5      \n",
       "6 5      "
      ]
     },
     "metadata": {},
     "output_type": "display_data"
    }
   ],
   "source": [
    "wine_data <- wine_data |> \n",
    "  mutate(across(fixed.acidity:alcohol, as.numeric)) |>\n",
    "  mutate(quality = as_factor(quality))\n",
    "\n",
    "slice(wine_data, 1:6)"
   ]
  },
  {
   "cell_type": "code",
   "execution_count": 5,
   "id": "5d7e80ab-2017-4c32-87b9-5c1ac2fcb144",
   "metadata": {},
   "outputs": [],
   "source": [
    "wine_split <- initial_split(wine_data, prop = 0.75, strata = quality)  \n",
    "wine_train <- training(wine_split)   \n",
    "wine_test <- testing(wine_split)"
   ]
  },
  {
   "cell_type": "code",
   "execution_count": 6,
   "id": "da0151da-6344-4dac-8f0f-43fab658bf6f",
   "metadata": {},
   "outputs": [
    {
     "data": {
      "text/html": [
       "<table class=\"dataframe\">\n",
       "<caption>A tibble: 1 × 11</caption>\n",
       "<thead>\n",
       "\t<tr><th scope=col>fixed.acidity</th><th scope=col>volatile.acidity</th><th scope=col>citric.acid</th><th scope=col>residual.sugar</th><th scope=col>chlorides</th><th scope=col>free.sulfur.dioxide</th><th scope=col>total.sulfur.dioxide</th><th scope=col>density</th><th scope=col>pH</th><th scope=col>sulphates</th><th scope=col>alcohol</th></tr>\n",
       "\t<tr><th scope=col>&lt;dbl&gt;</th><th scope=col>&lt;dbl&gt;</th><th scope=col>&lt;dbl&gt;</th><th scope=col>&lt;dbl&gt;</th><th scope=col>&lt;dbl&gt;</th><th scope=col>&lt;dbl&gt;</th><th scope=col>&lt;dbl&gt;</th><th scope=col>&lt;dbl&gt;</th><th scope=col>&lt;dbl&gt;</th><th scope=col>&lt;dbl&gt;</th><th scope=col>&lt;dbl&gt;</th></tr>\n",
       "</thead>\n",
       "<tbody>\n",
       "\t<tr><td>75.14608</td><td>0.5287062</td><td>0.27101</td><td>27.21119</td><td>0.08833306</td><td>16.37563</td><td>45.86622</td><td>0.9967829</td><td>298.8831</td><td>0.6597913</td><td>1.171675e+12</td></tr>\n",
       "</tbody>\n",
       "</table>\n"
      ],
      "text/latex": [
       "A tibble: 1 × 11\n",
       "\\begin{tabular}{lllllllllll}\n",
       " fixed.acidity & volatile.acidity & citric.acid & residual.sugar & chlorides & free.sulfur.dioxide & total.sulfur.dioxide & density & pH & sulphates & alcohol\\\\\n",
       " <dbl> & <dbl> & <dbl> & <dbl> & <dbl> & <dbl> & <dbl> & <dbl> & <dbl> & <dbl> & <dbl>\\\\\n",
       "\\hline\n",
       "\t 75.14608 & 0.5287062 & 0.27101 & 27.21119 & 0.08833306 & 16.37563 & 45.86622 & 0.9967829 & 298.8831 & 0.6597913 & 1.171675e+12\\\\\n",
       "\\end{tabular}\n"
      ],
      "text/markdown": [
       "\n",
       "A tibble: 1 × 11\n",
       "\n",
       "| fixed.acidity &lt;dbl&gt; | volatile.acidity &lt;dbl&gt; | citric.acid &lt;dbl&gt; | residual.sugar &lt;dbl&gt; | chlorides &lt;dbl&gt; | free.sulfur.dioxide &lt;dbl&gt; | total.sulfur.dioxide &lt;dbl&gt; | density &lt;dbl&gt; | pH &lt;dbl&gt; | sulphates &lt;dbl&gt; | alcohol &lt;dbl&gt; |\n",
       "|---|---|---|---|---|---|---|---|---|---|---|\n",
       "| 75.14608 | 0.5287062 | 0.27101 | 27.21119 | 0.08833306 | 16.37563 | 45.86622 | 0.9967829 | 298.8831 | 0.6597913 | 1.171675e+12 |\n",
       "\n"
      ],
      "text/plain": [
       "  fixed.acidity volatile.acidity citric.acid residual.sugar chlorides \n",
       "1 75.14608      0.5287062        0.27101     27.21119       0.08833306\n",
       "  free.sulfur.dioxide total.sulfur.dioxide density   pH       sulphates\n",
       "1 16.37563            45.86622             0.9967829 298.8831 0.6597913\n",
       "  alcohol     \n",
       "1 1.171675e+12"
      ]
     },
     "metadata": {},
     "output_type": "display_data"
    }
   ],
   "source": [
    "wine_train_avg <- wine_train |> \n",
    "  summarize(across(fixed.acidity:alcohol, mean, na.rm = TRUE))\n",
    "\n",
    "wine_train_avg"
   ]
  },
  {
   "cell_type": "code",
   "execution_count": 9,
   "id": "df30150b-669e-41cc-8f48-62cd60ed9e70",
   "metadata": {},
   "outputs": [
    {
     "data": {
      "text/html": [
       "<table class=\"dataframe\">\n",
       "<caption>A tibble: 6 × 2</caption>\n",
       "<thead>\n",
       "\t<tr><th scope=col>quality</th><th scope=col>n</th></tr>\n",
       "\t<tr><th scope=col>&lt;fct&gt;</th><th scope=col>&lt;int&gt;</th></tr>\n",
       "</thead>\n",
       "<tbody>\n",
       "\t<tr><td>3</td><td>  7</td></tr>\n",
       "\t<tr><td>4</td><td> 43</td></tr>\n",
       "\t<tr><td>5</td><td>511</td></tr>\n",
       "\t<tr><td>6</td><td>477</td></tr>\n",
       "\t<tr><td>7</td><td>149</td></tr>\n",
       "\t<tr><td>8</td><td> 11</td></tr>\n",
       "</tbody>\n",
       "</table>\n"
      ],
      "text/latex": [
       "A tibble: 6 × 2\n",
       "\\begin{tabular}{ll}\n",
       " quality & n\\\\\n",
       " <fct> & <int>\\\\\n",
       "\\hline\n",
       "\t 3 &   7\\\\\n",
       "\t 4 &  43\\\\\n",
       "\t 5 & 511\\\\\n",
       "\t 6 & 477\\\\\n",
       "\t 7 & 149\\\\\n",
       "\t 8 &  11\\\\\n",
       "\\end{tabular}\n"
      ],
      "text/markdown": [
       "\n",
       "A tibble: 6 × 2\n",
       "\n",
       "| quality &lt;fct&gt; | n &lt;int&gt; |\n",
       "|---|---|\n",
       "| 3 |   7 |\n",
       "| 4 |  43 |\n",
       "| 5 | 511 |\n",
       "| 6 | 477 |\n",
       "| 7 | 149 |\n",
       "| 8 |  11 |\n",
       "\n"
      ],
      "text/plain": [
       "  quality n  \n",
       "1 3         7\n",
       "2 4        43\n",
       "3 5       511\n",
       "4 6       477\n",
       "5 7       149\n",
       "6 8        11"
      ]
     },
     "metadata": {},
     "output_type": "display_data"
    }
   ],
   "source": [
    "wine_train |>\n",
    "group_by(quality) |>\n",
    "summarize(n=n())"
   ]
  },
  {
   "cell_type": "code",
   "execution_count": 12,
   "id": "d8a7b22e-e2ee-4df5-b334-ca5c6b3872d0",
   "metadata": {},
   "outputs": [
    {
     "data": {
      "text/html": [
       "<table class=\"dataframe\">\n",
       "<caption>A tibble: 2 × 12</caption>\n",
       "<thead>\n",
       "\t<tr><th scope=col>fixed.acidity</th><th scope=col>volatile.acidity</th><th scope=col>citric.acid</th><th scope=col>residual.sugar</th><th scope=col>chlorides</th><th scope=col>free.sulfur.dioxide</th><th scope=col>total.sulfur.dioxide</th><th scope=col>density</th><th scope=col>pH</th><th scope=col>sulphates</th><th scope=col>alcohol</th><th scope=col>quality</th></tr>\n",
       "\t<tr><th scope=col>&lt;dbl&gt;</th><th scope=col>&lt;dbl&gt;</th><th scope=col>&lt;dbl&gt;</th><th scope=col>&lt;dbl&gt;</th><th scope=col>&lt;dbl&gt;</th><th scope=col>&lt;dbl&gt;</th><th scope=col>&lt;dbl&gt;</th><th scope=col>&lt;dbl&gt;</th><th scope=col>&lt;dbl&gt;</th><th scope=col>&lt;dbl&gt;</th><th scope=col>&lt;dbl&gt;</th><th scope=col>&lt;fct&gt;</th></tr>\n",
       "</thead>\n",
       "<tbody>\n",
       "\t<tr><td>66</td><td>0.63</td><td>0</td><td>43</td><td>0.093</td><td>51</td><td>NA</td><td>0.99558</td><td>32</td><td>0.45</td><td>95</td><td>5</td></tr>\n",
       "\t<tr><td>66</td><td>0.63</td><td>0</td><td>43</td><td>0.093</td><td>51</td><td>NA</td><td>0.99558</td><td>32</td><td>0.45</td><td>95</td><td>5</td></tr>\n",
       "</tbody>\n",
       "</table>\n"
      ],
      "text/latex": [
       "A tibble: 2 × 12\n",
       "\\begin{tabular}{llllllllllll}\n",
       " fixed.acidity & volatile.acidity & citric.acid & residual.sugar & chlorides & free.sulfur.dioxide & total.sulfur.dioxide & density & pH & sulphates & alcohol & quality\\\\\n",
       " <dbl> & <dbl> & <dbl> & <dbl> & <dbl> & <dbl> & <dbl> & <dbl> & <dbl> & <dbl> & <dbl> & <fct>\\\\\n",
       "\\hline\n",
       "\t 66 & 0.63 & 0 & 43 & 0.093 & 51 & NA & 0.99558 & 32 & 0.45 & 95 & 5\\\\\n",
       "\t 66 & 0.63 & 0 & 43 & 0.093 & 51 & NA & 0.99558 & 32 & 0.45 & 95 & 5\\\\\n",
       "\\end{tabular}\n"
      ],
      "text/markdown": [
       "\n",
       "A tibble: 2 × 12\n",
       "\n",
       "| fixed.acidity &lt;dbl&gt; | volatile.acidity &lt;dbl&gt; | citric.acid &lt;dbl&gt; | residual.sugar &lt;dbl&gt; | chlorides &lt;dbl&gt; | free.sulfur.dioxide &lt;dbl&gt; | total.sulfur.dioxide &lt;dbl&gt; | density &lt;dbl&gt; | pH &lt;dbl&gt; | sulphates &lt;dbl&gt; | alcohol &lt;dbl&gt; | quality &lt;fct&gt; |\n",
       "|---|---|---|---|---|---|---|---|---|---|---|---|\n",
       "| 66 | 0.63 | 0 | 43 | 0.093 | 51 | NA | 0.99558 | 32 | 0.45 | 95 | 5 |\n",
       "| 66 | 0.63 | 0 | 43 | 0.093 | 51 | NA | 0.99558 | 32 | 0.45 | 95 | 5 |\n",
       "\n"
      ],
      "text/plain": [
       "  fixed.acidity volatile.acidity citric.acid residual.sugar chlorides\n",
       "1 66            0.63             0           43             0.093    \n",
       "2 66            0.63             0           43             0.093    \n",
       "  free.sulfur.dioxide total.sulfur.dioxide density pH sulphates alcohol quality\n",
       "1 51                  NA                   0.99558 32 0.45      95      5      \n",
       "2 51                  NA                   0.99558 32 0.45      95      5      "
      ]
     },
     "metadata": {},
     "output_type": "display_data"
    }
   ],
   "source": [
    "wine_train[!complete.cases(wine_train),]"
   ]
  },
  {
   "cell_type": "code",
   "execution_count": 15,
   "id": "0d19950f-b58c-401b-bea6-91f50ecb77c1",
   "metadata": {},
   "outputs": [],
   "source": [
    "wine_train <- na.omit(wine_train)"
   ]
  },
  {
   "cell_type": "markdown",
   "id": "ebfe4705-3c49-4f71-b383-52c8ba00c915",
   "metadata": {},
   "source": [
    "create new dataset without missing data\n",
    "newdata <- na.omit(mydata)\n",
    "\n",
    "list rows of data that have missing values\n",
    "mydata[!complete.cases(mydata),]\n"
   ]
  },
  {
   "cell_type": "code",
   "execution_count": null,
   "id": "b42d96e9-5364-46bb-9c41-766712a458c4",
   "metadata": {},
   "outputs": [],
   "source": []
  },
  {
   "cell_type": "code",
   "execution_count": null,
   "id": "f423399d-d746-4619-b28e-80e9f35ad688",
   "metadata": {},
   "outputs": [],
   "source": []
  }
 ],
 "metadata": {
  "kernelspec": {
   "display_name": "R",
   "language": "R",
   "name": "ir"
  },
  "language_info": {
   "codemirror_mode": "r",
   "file_extension": ".r",
   "mimetype": "text/x-r-source",
   "name": "R",
   "pygments_lexer": "r",
   "version": "4.1.3"
  }
 },
 "nbformat": 4,
 "nbformat_minor": 5
}

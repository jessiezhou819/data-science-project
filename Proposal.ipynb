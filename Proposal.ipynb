{
 "cells": [
  {
   "cell_type": "markdown",
   "id": "ca8cca9c-8b7b-4516-8c2b-63fbd334f2a1",
   "metadata": {
    "tags": []
   },
   "source": [
    "# Wine Quality Data Set\n",
    "<img src=\"https://archive.ics.uci.edu/ml/assets/MLimages/Large186.jpg\" width = \"100\"/>"
   ]
  },
  {
   "cell_type": "markdown",
   "id": "7515ae55-65ed-4240-a4a2-a91906b1d908",
   "metadata": {
    "tags": []
   },
   "source": [
    "Project Proposal: Grading The Quality of Red Wine\n",
    "\n",
    "Those who avidly drink wine take pride in understanding the different types and aspects of it and often are quite selective on the certain types of wine they choose to drink. Because the nature of wine can change quite differently depending on its ingredients and the specific way it is brewed, the concern of grading the quality of a type of wine is very important as it ultimately determines how likely someone will consume a certain type of wine. Our project proposal is looking to be able to determine the specific category of wine quality for red wine samples and more specifically, if we are able to accurately grade the wine quality of different samples of red wine based off of their four most relevant ingredients. The parameters we will be using to determine the classification of “wine quality” as defined by Cortez et al. is a continuous integer-based scale with 0 being very bad quality and 10 being excellent quality of wine. To carry out this procedure we decided to use the “Wine Quality Data Set” which shows numerous observations of red wine with 11 columns  attached with a final column being used to show the wine quality score given.\n",
    "\n",
    "This is a classification process because we are predicting categorical values. Firstly, we will split our dataset into a training and testing set. The variables we will use as predictors will be sulphates, pH, total sulfur dioxide and alcohol. The reason we will be looking at these columns as predictors is accord to their study (Cortez et al), those are the four most relevant factors in determining the quality for red wine. We will be grading the success of our classifier based off its accuracy to correctly predict which category of wine quality each observation of red wine belongs to from our testing set. We’ll use cross validation to get the best estimate of accuracy for our classifier so we can know which parameters work the best. We’ll show a visual representation of this in the form of a line graph, highlighting the different estimate accuracies in relation to the amount of neighbors we use. Finally we’ll use the best parameter to see if our classifier can accurately predict the wine quality based on these 4 predictors. \n",
    "\n",
    "\n",
    "We are expecting that that there will be a good chance our classifier isn’t very accurate and this is due to the fact that although the 4 predictors chosen are the 4 most relevant, the remaining variables are still collectively important to effectively predict the quality of red wine.  The findings we have will be impactful as it will give consumers and your average wine connoisseurs a better understanding of what to place higher emphasis on when grading wine quality and ultimately looking for which wine to buy. These findings could potentially lead to questions such as “Is it valid to use objective quantitative data as a means of determining an ultimately subjective classification?”\n",
    "\n",
    "\n"
   ]
  },
  {
   "cell_type": "markdown",
   "id": "cca8d5a9-e320-434d-83d7-4afa2697f9e4",
   "metadata": {
    "jupyter": {
     "source_hidden": true
    },
    "tags": []
   },
   "source": [
    "**Read the dataset from the web**,\n",
    "<br> randomly select 10 rows to observe the dataframe."
   ]
  },
  {
   "cell_type": "code",
   "execution_count": 1,
   "id": "ded3a423-d2c0-4746-ab71-df985dd24c43",
   "metadata": {},
   "outputs": [
    {
     "name": "stderr",
     "output_type": "stream",
     "text": [
      "── \u001b[1mAttaching packages\u001b[22m ─────────────────────────────────────── tidyverse 1.3.1 ──\n",
      "\n",
      "\u001b[32m✔\u001b[39m \u001b[34mggplot2\u001b[39m 3.3.6     \u001b[32m✔\u001b[39m \u001b[34mpurrr  \u001b[39m 0.3.4\n",
      "\u001b[32m✔\u001b[39m \u001b[34mtibble \u001b[39m 3.1.7     \u001b[32m✔\u001b[39m \u001b[34mdplyr  \u001b[39m 1.0.9\n",
      "\u001b[32m✔\u001b[39m \u001b[34mtidyr  \u001b[39m 1.2.0     \u001b[32m✔\u001b[39m \u001b[34mstringr\u001b[39m 1.4.0\n",
      "\u001b[32m✔\u001b[39m \u001b[34mreadr  \u001b[39m 2.1.2     \u001b[32m✔\u001b[39m \u001b[34mforcats\u001b[39m 0.5.1\n",
      "\n",
      "── \u001b[1mConflicts\u001b[22m ────────────────────────────────────────── tidyverse_conflicts() ──\n",
      "\u001b[31m✖\u001b[39m \u001b[34mdplyr\u001b[39m::\u001b[32mfilter()\u001b[39m masks \u001b[34mstats\u001b[39m::filter()\n",
      "\u001b[31m✖\u001b[39m \u001b[34mdplyr\u001b[39m::\u001b[32mlag()\u001b[39m    masks \u001b[34mstats\u001b[39m::lag()\n",
      "\n",
      "── \u001b[1mAttaching packages\u001b[22m ────────────────────────────────────── tidymodels 1.0.0 ──\n",
      "\n",
      "\u001b[32m✔\u001b[39m \u001b[34mbroom       \u001b[39m 1.0.0     \u001b[32m✔\u001b[39m \u001b[34mrsample     \u001b[39m 1.0.0\n",
      "\u001b[32m✔\u001b[39m \u001b[34mdials       \u001b[39m 1.0.0     \u001b[32m✔\u001b[39m \u001b[34mtune        \u001b[39m 1.0.0\n",
      "\u001b[32m✔\u001b[39m \u001b[34minfer       \u001b[39m 1.0.2     \u001b[32m✔\u001b[39m \u001b[34mworkflows   \u001b[39m 1.0.0\n",
      "\u001b[32m✔\u001b[39m \u001b[34mmodeldata   \u001b[39m 1.0.0     \u001b[32m✔\u001b[39m \u001b[34mworkflowsets\u001b[39m 1.0.0\n",
      "\u001b[32m✔\u001b[39m \u001b[34mparsnip     \u001b[39m 1.0.0     \u001b[32m✔\u001b[39m \u001b[34myardstick   \u001b[39m 1.0.0\n",
      "\u001b[32m✔\u001b[39m \u001b[34mrecipes     \u001b[39m 1.0.1     \n",
      "\n",
      "── \u001b[1mConflicts\u001b[22m ───────────────────────────────────────── tidymodels_conflicts() ──\n",
      "\u001b[31m✖\u001b[39m \u001b[34mscales\u001b[39m::\u001b[32mdiscard()\u001b[39m masks \u001b[34mpurrr\u001b[39m::discard()\n",
      "\u001b[31m✖\u001b[39m \u001b[34mdplyr\u001b[39m::\u001b[32mfilter()\u001b[39m   masks \u001b[34mstats\u001b[39m::filter()\n",
      "\u001b[31m✖\u001b[39m \u001b[34mrecipes\u001b[39m::\u001b[32mfixed()\u001b[39m  masks \u001b[34mstringr\u001b[39m::fixed()\n",
      "\u001b[31m✖\u001b[39m \u001b[34mdplyr\u001b[39m::\u001b[32mlag()\u001b[39m      masks \u001b[34mstats\u001b[39m::lag()\n",
      "\u001b[31m✖\u001b[39m \u001b[34myardstick\u001b[39m::\u001b[32mspec()\u001b[39m masks \u001b[34mreadr\u001b[39m::spec()\n",
      "\u001b[31m✖\u001b[39m \u001b[34mrecipes\u001b[39m::\u001b[32mstep()\u001b[39m   masks \u001b[34mstats\u001b[39m::step()\n",
      "\u001b[34m•\u001b[39m Use \u001b[32mtidymodels_prefer()\u001b[39m to resolve common conflicts.\n",
      "\n"
     ]
    }
   ],
   "source": [
    "library(repr)\n",
    "library(tidyverse)\n",
    "library(tidymodels)"
   ]
  },
  {
   "cell_type": "code",
   "execution_count": 3,
   "id": "b4719527-cc48-4474-a9de-96329f6ba3fe",
   "metadata": {},
   "outputs": [
    {
     "name": "stderr",
     "output_type": "stream",
     "text": [
      "\u001b[36mℹ\u001b[39m Using \u001b[34m\u001b[34m\"','\"\u001b[34m\u001b[39m as decimal and \u001b[34m\u001b[34m\"'.'\"\u001b[34m\u001b[39m as grouping mark. Use `read_delim()` for more control.\n",
      "\n",
      "Warning message:\n",
      "“One or more parsing issues, see `problems()` for details”\n",
      "\u001b[1mRows: \u001b[22m\u001b[34m1599\u001b[39m \u001b[1mColumns: \u001b[22m\u001b[34m12\u001b[39m\n",
      "\u001b[36m──\u001b[39m \u001b[1mColumn specification\u001b[22m \u001b[36m────────────────────────────────────────────────────────\u001b[39m\n",
      "\u001b[1mDelimiter:\u001b[22m \";\"\n",
      "\u001b[31mchr\u001b[39m (5): volatile acidity, citric acid, chlorides, density, sulphates\n",
      "\u001b[32mdbl\u001b[39m (2): total sulfur dioxide, quality\n",
      "\n",
      "\u001b[36mℹ\u001b[39m Use `spec()` to retrieve the full column specification for this data.\n",
      "\u001b[36mℹ\u001b[39m Specify the column types or set `show_col_types = FALSE` to quiet this message.\n"
     ]
    },
    {
     "data": {
      "text/html": [
       "<table class=\"dataframe\">\n",
       "<caption>A spec_tbl_df: 10 × 12</caption>\n",
       "<thead>\n",
       "\t<tr><th scope=col>fixed acidity</th><th scope=col>volatile acidity</th><th scope=col>citric acid</th><th scope=col>residual sugar</th><th scope=col>chlorides</th><th scope=col>free sulfur dioxide</th><th scope=col>total sulfur dioxide</th><th scope=col>density</th><th scope=col>pH</th><th scope=col>sulphates</th><th scope=col>alcohol</th><th scope=col>quality</th></tr>\n",
       "\t<tr><th scope=col>&lt;dbl&gt;</th><th scope=col>&lt;chr&gt;</th><th scope=col>&lt;chr&gt;</th><th scope=col>&lt;dbl&gt;</th><th scope=col>&lt;chr&gt;</th><th scope=col>&lt;dbl&gt;</th><th scope=col>&lt;dbl&gt;</th><th scope=col>&lt;chr&gt;</th><th scope=col>&lt;dbl&gt;</th><th scope=col>&lt;chr&gt;</th><th scope=col>&lt;dbl&gt;</th><th scope=col>&lt;dbl&gt;</th></tr>\n",
       "</thead>\n",
       "<tbody>\n",
       "\t<tr><td> 78</td><td>0.61</td><td>0.29</td><td>16</td><td>0.114</td><td> 9</td><td>29</td><td>0.9974 </td><td>326</td><td>1.56</td><td> 91</td><td>5</td></tr>\n",
       "\t<tr><td> 61</td><td>0.58</td><td>0.23</td><td>25</td><td>0.044</td><td>16</td><td>70</td><td>0.99352</td><td>346</td><td>0.65</td><td>125</td><td>6</td></tr>\n",
       "\t<tr><td>106</td><td>0.34</td><td>0.49</td><td>32</td><td>0.078</td><td>20</td><td>78</td><td>0.9992 </td><td>319</td><td>0.7 </td><td> 10</td><td>6</td></tr>\n",
       "\t<tr><td> 82</td><td>0.4 </td><td>0.44</td><td>28</td><td>0.089</td><td>11</td><td>43</td><td>0.9975 </td><td>353</td><td>0.61</td><td>105</td><td>6</td></tr>\n",
       "\t<tr><td>  6</td><td>0.64</td><td>0.05</td><td>19</td><td>0.066</td><td> 9</td><td>17</td><td>0.99496</td><td>352</td><td>0.78</td><td>106</td><td>5</td></tr>\n",
       "\t<tr><td> 62</td><td>0.63</td><td>0.31</td><td>17</td><td>0.088</td><td>15</td><td>64</td><td>0.9969 </td><td>346</td><td>0.79</td><td> 93</td><td>5</td></tr>\n",
       "\t<tr><td> 77</td><td>0.41</td><td>0.76</td><td>18</td><td>0.611</td><td> 8</td><td>45</td><td>0.9968 </td><td>306</td><td>1.26</td><td> 94</td><td>5</td></tr>\n",
       "\t<tr><td> 86</td><td>0.55</td><td>0.09</td><td>33</td><td>0.068</td><td> 8</td><td>17</td><td>0.99735</td><td>323</td><td>0.44</td><td> 10</td><td>5</td></tr>\n",
       "\t<tr><td>109</td><td>0.32</td><td>0.52</td><td>18</td><td>0.132</td><td>17</td><td>44</td><td>0.99734</td><td>328</td><td>0.77</td><td>115</td><td>6</td></tr>\n",
       "\t<tr><td>102</td><td>0.36</td><td>0.64</td><td>29</td><td>0.122</td><td>10</td><td>41</td><td>0.998  </td><td>323</td><td>0.66</td><td>125</td><td>6</td></tr>\n",
       "</tbody>\n",
       "</table>\n"
      ],
      "text/latex": [
       "A spec\\_tbl\\_df: 10 × 12\n",
       "\\begin{tabular}{llllllllllll}\n",
       " fixed acidity & volatile acidity & citric acid & residual sugar & chlorides & free sulfur dioxide & total sulfur dioxide & density & pH & sulphates & alcohol & quality\\\\\n",
       " <dbl> & <chr> & <chr> & <dbl> & <chr> & <dbl> & <dbl> & <chr> & <dbl> & <chr> & <dbl> & <dbl>\\\\\n",
       "\\hline\n",
       "\t  78 & 0.61 & 0.29 & 16 & 0.114 &  9 & 29 & 0.9974  & 326 & 1.56 &  91 & 5\\\\\n",
       "\t  61 & 0.58 & 0.23 & 25 & 0.044 & 16 & 70 & 0.99352 & 346 & 0.65 & 125 & 6\\\\\n",
       "\t 106 & 0.34 & 0.49 & 32 & 0.078 & 20 & 78 & 0.9992  & 319 & 0.7  &  10 & 6\\\\\n",
       "\t  82 & 0.4  & 0.44 & 28 & 0.089 & 11 & 43 & 0.9975  & 353 & 0.61 & 105 & 6\\\\\n",
       "\t   6 & 0.64 & 0.05 & 19 & 0.066 &  9 & 17 & 0.99496 & 352 & 0.78 & 106 & 5\\\\\n",
       "\t  62 & 0.63 & 0.31 & 17 & 0.088 & 15 & 64 & 0.9969  & 346 & 0.79 &  93 & 5\\\\\n",
       "\t  77 & 0.41 & 0.76 & 18 & 0.611 &  8 & 45 & 0.9968  & 306 & 1.26 &  94 & 5\\\\\n",
       "\t  86 & 0.55 & 0.09 & 33 & 0.068 &  8 & 17 & 0.99735 & 323 & 0.44 &  10 & 5\\\\\n",
       "\t 109 & 0.32 & 0.52 & 18 & 0.132 & 17 & 44 & 0.99734 & 328 & 0.77 & 115 & 6\\\\\n",
       "\t 102 & 0.36 & 0.64 & 29 & 0.122 & 10 & 41 & 0.998   & 323 & 0.66 & 125 & 6\\\\\n",
       "\\end{tabular}\n"
      ],
      "text/markdown": [
       "\n",
       "A spec_tbl_df: 10 × 12\n",
       "\n",
       "| fixed acidity &lt;dbl&gt; | volatile acidity &lt;chr&gt; | citric acid &lt;chr&gt; | residual sugar &lt;dbl&gt; | chlorides &lt;chr&gt; | free sulfur dioxide &lt;dbl&gt; | total sulfur dioxide &lt;dbl&gt; | density &lt;chr&gt; | pH &lt;dbl&gt; | sulphates &lt;chr&gt; | alcohol &lt;dbl&gt; | quality &lt;dbl&gt; |\n",
       "|---|---|---|---|---|---|---|---|---|---|---|---|\n",
       "|  78 | 0.61 | 0.29 | 16 | 0.114 |  9 | 29 | 0.9974  | 326 | 1.56 |  91 | 5 |\n",
       "|  61 | 0.58 | 0.23 | 25 | 0.044 | 16 | 70 | 0.99352 | 346 | 0.65 | 125 | 6 |\n",
       "| 106 | 0.34 | 0.49 | 32 | 0.078 | 20 | 78 | 0.9992  | 319 | 0.7  |  10 | 6 |\n",
       "|  82 | 0.4  | 0.44 | 28 | 0.089 | 11 | 43 | 0.9975  | 353 | 0.61 | 105 | 6 |\n",
       "|   6 | 0.64 | 0.05 | 19 | 0.066 |  9 | 17 | 0.99496 | 352 | 0.78 | 106 | 5 |\n",
       "|  62 | 0.63 | 0.31 | 17 | 0.088 | 15 | 64 | 0.9969  | 346 | 0.79 |  93 | 5 |\n",
       "|  77 | 0.41 | 0.76 | 18 | 0.611 |  8 | 45 | 0.9968  | 306 | 1.26 |  94 | 5 |\n",
       "|  86 | 0.55 | 0.09 | 33 | 0.068 |  8 | 17 | 0.99735 | 323 | 0.44 |  10 | 5 |\n",
       "| 109 | 0.32 | 0.52 | 18 | 0.132 | 17 | 44 | 0.99734 | 328 | 0.77 | 115 | 6 |\n",
       "| 102 | 0.36 | 0.64 | 29 | 0.122 | 10 | 41 | 0.998   | 323 | 0.66 | 125 | 6 |\n",
       "\n"
      ],
      "text/plain": [
       "   fixed acidity volatile acidity citric acid residual sugar chlorides\n",
       "1   78           0.61             0.29        16             0.114    \n",
       "2   61           0.58             0.23        25             0.044    \n",
       "3  106           0.34             0.49        32             0.078    \n",
       "4   82           0.4              0.44        28             0.089    \n",
       "5    6           0.64             0.05        19             0.066    \n",
       "6   62           0.63             0.31        17             0.088    \n",
       "7   77           0.41             0.76        18             0.611    \n",
       "8   86           0.55             0.09        33             0.068    \n",
       "9  109           0.32             0.52        18             0.132    \n",
       "10 102           0.36             0.64        29             0.122    \n",
       "   free sulfur dioxide total sulfur dioxide density pH  sulphates alcohol\n",
       "1   9                  29                   0.9974  326 1.56       91    \n",
       "2  16                  70                   0.99352 346 0.65      125    \n",
       "3  20                  78                   0.9992  319 0.7        10    \n",
       "4  11                  43                   0.9975  353 0.61      105    \n",
       "5   9                  17                   0.99496 352 0.78      106    \n",
       "6  15                  64                   0.9969  346 0.79       93    \n",
       "7   8                  45                   0.9968  306 1.26       94    \n",
       "8   8                  17                   0.99735 323 0.44       10    \n",
       "9  17                  44                   0.99734 328 0.77      115    \n",
       "10 10                  41                   0.998   323 0.66      125    \n",
       "   quality\n",
       "1  5      \n",
       "2  6      \n",
       "3  6      \n",
       "4  6      \n",
       "5  5      \n",
       "6  5      \n",
       "7  5      \n",
       "8  5      \n",
       "9  6      \n",
       "10 6      "
      ]
     },
     "metadata": {},
     "output_type": "display_data"
    }
   ],
   "source": [
    "wine_data <- read_csv2(\"https://archive.ics.uci.edu/ml/machine-learning-databases/wine-quality/winequality-red.csv\")\n",
    "slice_sample(wine_data, n = 10)"
   ]
  },
  {
   "cell_type": "markdown",
   "id": "f44cfacf-12b5-4971-883e-f64e9cd9ffa7",
   "metadata": {},
   "source": [
    "**In our dataset, we can see there are only 2 rows that have missing data. We then choose to remove these incomplete cases from the dataframe using `na.omit`.**"
   ]
  },
  {
   "cell_type": "code",
   "execution_count": 11,
   "id": "0f917b49-f66b-4c1e-9847-d2f1bfd393c4",
   "metadata": {},
   "outputs": [
    {
     "data": {
      "text/html": [
       "<table class=\"dataframe\">\n",
       "<caption>A tibble: 2 × 12</caption>\n",
       "<thead>\n",
       "\t<tr><th scope=col>fixed.acidity</th><th scope=col>volatile.acidity</th><th scope=col>citric.acid</th><th scope=col>residual.sugar</th><th scope=col>chlorides</th><th scope=col>free.sulfur.dioxide</th><th scope=col>total.sulfur.dioxide</th><th scope=col>density</th><th scope=col>pH</th><th scope=col>sulphates</th><th scope=col>alcohol</th><th scope=col>quality</th></tr>\n",
       "\t<tr><th scope=col>&lt;dbl&gt;</th><th scope=col>&lt;dbl&gt;</th><th scope=col>&lt;dbl&gt;</th><th scope=col>&lt;dbl&gt;</th><th scope=col>&lt;dbl&gt;</th><th scope=col>&lt;dbl&gt;</th><th scope=col>&lt;dbl&gt;</th><th scope=col>&lt;dbl&gt;</th><th scope=col>&lt;dbl&gt;</th><th scope=col>&lt;dbl&gt;</th><th scope=col>&lt;dbl&gt;</th><th scope=col>&lt;fct&gt;</th></tr>\n",
       "</thead>\n",
       "<tbody>\n",
       "\t<tr><td>66</td><td>0.63</td><td>0</td><td>43</td><td>0.093</td><td>51</td><td>NA</td><td>0.99558</td><td>32</td><td>0.45</td><td>95</td><td>5</td></tr>\n",
       "\t<tr><td>66</td><td>0.63</td><td>0</td><td>43</td><td>0.093</td><td>51</td><td>NA</td><td>0.99558</td><td>32</td><td>0.45</td><td>95</td><td>5</td></tr>\n",
       "</tbody>\n",
       "</table>\n"
      ],
      "text/latex": [
       "A tibble: 2 × 12\n",
       "\\begin{tabular}{llllllllllll}\n",
       " fixed.acidity & volatile.acidity & citric.acid & residual.sugar & chlorides & free.sulfur.dioxide & total.sulfur.dioxide & density & pH & sulphates & alcohol & quality\\\\\n",
       " <dbl> & <dbl> & <dbl> & <dbl> & <dbl> & <dbl> & <dbl> & <dbl> & <dbl> & <dbl> & <dbl> & <fct>\\\\\n",
       "\\hline\n",
       "\t 66 & 0.63 & 0 & 43 & 0.093 & 51 & NA & 0.99558 & 32 & 0.45 & 95 & 5\\\\\n",
       "\t 66 & 0.63 & 0 & 43 & 0.093 & 51 & NA & 0.99558 & 32 & 0.45 & 95 & 5\\\\\n",
       "\\end{tabular}\n"
      ],
      "text/markdown": [
       "\n",
       "A tibble: 2 × 12\n",
       "\n",
       "| fixed.acidity &lt;dbl&gt; | volatile.acidity &lt;dbl&gt; | citric.acid &lt;dbl&gt; | residual.sugar &lt;dbl&gt; | chlorides &lt;dbl&gt; | free.sulfur.dioxide &lt;dbl&gt; | total.sulfur.dioxide &lt;dbl&gt; | density &lt;dbl&gt; | pH &lt;dbl&gt; | sulphates &lt;dbl&gt; | alcohol &lt;dbl&gt; | quality &lt;fct&gt; |\n",
       "|---|---|---|---|---|---|---|---|---|---|---|---|\n",
       "| 66 | 0.63 | 0 | 43 | 0.093 | 51 | NA | 0.99558 | 32 | 0.45 | 95 | 5 |\n",
       "| 66 | 0.63 | 0 | 43 | 0.093 | 51 | NA | 0.99558 | 32 | 0.45 | 95 | 5 |\n",
       "\n"
      ],
      "text/plain": [
       "  fixed.acidity volatile.acidity citric.acid residual.sugar chlorides\n",
       "1 66            0.63             0           43             0.093    \n",
       "2 66            0.63             0           43             0.093    \n",
       "  free.sulfur.dioxide total.sulfur.dioxide density pH sulphates alcohol quality\n",
       "1 51                  NA                   0.99558 32 0.45      95      5      \n",
       "2 51                  NA                   0.99558 32 0.45      95      5      "
      ]
     },
     "metadata": {},
     "output_type": "display_data"
    }
   ],
   "source": [
    "wine_data[!complete.cases(wine_data),]\n",
    "wine_data <- na.omit(wine_data)"
   ]
  },
  {
   "cell_type": "markdown",
   "id": "e7ec3ba6-0eff-49bf-b787-39c064df72e7",
   "metadata": {},
   "source": [
    "**In addition, we use `make.names` to replace column names that contain empty spaces with a `.`. This will allow us use our tidyverse functions more conveniently.**"
   ]
  },
  {
   "cell_type": "code",
   "execution_count": 12,
   "id": "8d876e93-2ec2-4287-93ce-8e77a51ea1b3",
   "metadata": {},
   "outputs": [
    {
     "data": {
      "text/html": [
       "<table class=\"dataframe\">\n",
       "<caption>A tibble: 1 × 12</caption>\n",
       "<thead>\n",
       "\t<tr><th scope=col>fixed.acidity</th><th scope=col>volatile.acidity</th><th scope=col>citric.acid</th><th scope=col>residual.sugar</th><th scope=col>chlorides</th><th scope=col>free.sulfur.dioxide</th><th scope=col>total.sulfur.dioxide</th><th scope=col>density</th><th scope=col>pH</th><th scope=col>sulphates</th><th scope=col>alcohol</th><th scope=col>quality</th></tr>\n",
       "\t<tr><th scope=col>&lt;dbl&gt;</th><th scope=col>&lt;dbl&gt;</th><th scope=col>&lt;dbl&gt;</th><th scope=col>&lt;dbl&gt;</th><th scope=col>&lt;dbl&gt;</th><th scope=col>&lt;dbl&gt;</th><th scope=col>&lt;dbl&gt;</th><th scope=col>&lt;dbl&gt;</th><th scope=col>&lt;dbl&gt;</th><th scope=col>&lt;dbl&gt;</th><th scope=col>&lt;dbl&gt;</th><th scope=col>&lt;fct&gt;</th></tr>\n",
       "</thead>\n",
       "<tbody>\n",
       "\t<tr><td>74</td><td>0.7</td><td>0</td><td>19</td><td>0.076</td><td>11</td><td>34</td><td>0.9978</td><td>351</td><td>0.56</td><td>94</td><td>5</td></tr>\n",
       "</tbody>\n",
       "</table>\n"
      ],
      "text/latex": [
       "A tibble: 1 × 12\n",
       "\\begin{tabular}{llllllllllll}\n",
       " fixed.acidity & volatile.acidity & citric.acid & residual.sugar & chlorides & free.sulfur.dioxide & total.sulfur.dioxide & density & pH & sulphates & alcohol & quality\\\\\n",
       " <dbl> & <dbl> & <dbl> & <dbl> & <dbl> & <dbl> & <dbl> & <dbl> & <dbl> & <dbl> & <dbl> & <fct>\\\\\n",
       "\\hline\n",
       "\t 74 & 0.7 & 0 & 19 & 0.076 & 11 & 34 & 0.9978 & 351 & 0.56 & 94 & 5\\\\\n",
       "\\end{tabular}\n"
      ],
      "text/markdown": [
       "\n",
       "A tibble: 1 × 12\n",
       "\n",
       "| fixed.acidity &lt;dbl&gt; | volatile.acidity &lt;dbl&gt; | citric.acid &lt;dbl&gt; | residual.sugar &lt;dbl&gt; | chlorides &lt;dbl&gt; | free.sulfur.dioxide &lt;dbl&gt; | total.sulfur.dioxide &lt;dbl&gt; | density &lt;dbl&gt; | pH &lt;dbl&gt; | sulphates &lt;dbl&gt; | alcohol &lt;dbl&gt; | quality &lt;fct&gt; |\n",
       "|---|---|---|---|---|---|---|---|---|---|---|---|\n",
       "| 74 | 0.7 | 0 | 19 | 0.076 | 11 | 34 | 0.9978 | 351 | 0.56 | 94 | 5 |\n",
       "\n"
      ],
      "text/plain": [
       "  fixed.acidity volatile.acidity citric.acid residual.sugar chlorides\n",
       "1 74            0.7              0           19             0.076    \n",
       "  free.sulfur.dioxide total.sulfur.dioxide density pH  sulphates alcohol\n",
       "1 11                  34                   0.9978  351 0.56      94     \n",
       "  quality\n",
       "1 5      "
      ]
     },
     "metadata": {},
     "output_type": "display_data"
    }
   ],
   "source": [
    "colnames(wine_data) <- make.names(colnames(wine_data))\n",
    "slice(wine_data, 1)"
   ]
  },
  {
   "cell_type": "markdown",
   "id": "c7e6a6b5-ed77-463d-8cbe-1a2b50c06a2e",
   "metadata": {},
   "source": [
    "**We then used `mutate` to convert all predictors into numeric data; convert target variable to a factor using `as_factor`.**"
   ]
  },
  {
   "cell_type": "code",
   "execution_count": 13,
   "id": "b72ab550-cfe6-47b2-b1f0-990ade43b12e",
   "metadata": {},
   "outputs": [
    {
     "data": {
      "text/html": [
       "<table class=\"dataframe\">\n",
       "<caption>A tibble: 1 × 12</caption>\n",
       "<thead>\n",
       "\t<tr><th scope=col>fixed.acidity</th><th scope=col>volatile.acidity</th><th scope=col>citric.acid</th><th scope=col>residual.sugar</th><th scope=col>chlorides</th><th scope=col>free.sulfur.dioxide</th><th scope=col>total.sulfur.dioxide</th><th scope=col>density</th><th scope=col>pH</th><th scope=col>sulphates</th><th scope=col>alcohol</th><th scope=col>quality</th></tr>\n",
       "\t<tr><th scope=col>&lt;dbl&gt;</th><th scope=col>&lt;dbl&gt;</th><th scope=col>&lt;dbl&gt;</th><th scope=col>&lt;dbl&gt;</th><th scope=col>&lt;dbl&gt;</th><th scope=col>&lt;dbl&gt;</th><th scope=col>&lt;dbl&gt;</th><th scope=col>&lt;dbl&gt;</th><th scope=col>&lt;dbl&gt;</th><th scope=col>&lt;dbl&gt;</th><th scope=col>&lt;dbl&gt;</th><th scope=col>&lt;fct&gt;</th></tr>\n",
       "</thead>\n",
       "<tbody>\n",
       "\t<tr><td>74</td><td>0.7</td><td>0</td><td>19</td><td>0.076</td><td>11</td><td>34</td><td>0.9978</td><td>351</td><td>0.56</td><td>94</td><td>5</td></tr>\n",
       "</tbody>\n",
       "</table>\n"
      ],
      "text/latex": [
       "A tibble: 1 × 12\n",
       "\\begin{tabular}{llllllllllll}\n",
       " fixed.acidity & volatile.acidity & citric.acid & residual.sugar & chlorides & free.sulfur.dioxide & total.sulfur.dioxide & density & pH & sulphates & alcohol & quality\\\\\n",
       " <dbl> & <dbl> & <dbl> & <dbl> & <dbl> & <dbl> & <dbl> & <dbl> & <dbl> & <dbl> & <dbl> & <fct>\\\\\n",
       "\\hline\n",
       "\t 74 & 0.7 & 0 & 19 & 0.076 & 11 & 34 & 0.9978 & 351 & 0.56 & 94 & 5\\\\\n",
       "\\end{tabular}\n"
      ],
      "text/markdown": [
       "\n",
       "A tibble: 1 × 12\n",
       "\n",
       "| fixed.acidity &lt;dbl&gt; | volatile.acidity &lt;dbl&gt; | citric.acid &lt;dbl&gt; | residual.sugar &lt;dbl&gt; | chlorides &lt;dbl&gt; | free.sulfur.dioxide &lt;dbl&gt; | total.sulfur.dioxide &lt;dbl&gt; | density &lt;dbl&gt; | pH &lt;dbl&gt; | sulphates &lt;dbl&gt; | alcohol &lt;dbl&gt; | quality &lt;fct&gt; |\n",
       "|---|---|---|---|---|---|---|---|---|---|---|---|\n",
       "| 74 | 0.7 | 0 | 19 | 0.076 | 11 | 34 | 0.9978 | 351 | 0.56 | 94 | 5 |\n",
       "\n"
      ],
      "text/plain": [
       "  fixed.acidity volatile.acidity citric.acid residual.sugar chlorides\n",
       "1 74            0.7              0           19             0.076    \n",
       "  free.sulfur.dioxide total.sulfur.dioxide density pH  sulphates alcohol\n",
       "1 11                  34                   0.9978  351 0.56      94     \n",
       "  quality\n",
       "1 5      "
      ]
     },
     "metadata": {},
     "output_type": "display_data"
    }
   ],
   "source": [
    "wine_data <- wine_data |> \n",
    "  mutate(across(fixed.acidity:alcohol, as.numeric)) |>\n",
    "  mutate(quality = as_factor(quality))\n",
    "\n",
    "slice(wine_data, 1)"
   ]
  },
  {
   "cell_type": "markdown",
   "id": "110e3619-40bd-484d-b64d-8cbaa4ef494a",
   "metadata": {},
   "source": [
    "**After tidying our data to a format that is suitable for analysis, we continue to next step by \n",
    "focusing specifically on the training data.**\n",
    "<br> We choose to split 75% of our original data set into the training set."
   ]
  },
  {
   "cell_type": "code",
   "execution_count": 14,
   "id": "5d7e80ab-2017-4c32-87b9-5c1ac2fcb144",
   "metadata": {},
   "outputs": [],
   "source": [
    "wine_split <- initial_split(wine_data, prop = 0.75, strata = quality)  \n",
    "wine_train <- training(wine_split)   \n",
    "wine_test <- testing(wine_split)"
   ]
  },
  {
   "cell_type": "markdown",
   "id": "10ba7974-536f-4d23-8e4c-c502c9132470",
   "metadata": {},
   "source": [
    "**Since all of the predictor variables contains quantitaive data, we found the mean of each column using `summarize` + `across`.**"
   ]
  },
  {
   "cell_type": "code",
   "execution_count": 16,
   "id": "da0151da-6344-4dac-8f0f-43fab658bf6f",
   "metadata": {},
   "outputs": [
    {
     "data": {
      "text/html": [
       "<table class=\"dataframe\">\n",
       "<caption>A tibble: 1 × 11</caption>\n",
       "<thead>\n",
       "\t<tr><th scope=col>fixed.acidity</th><th scope=col>volatile.acidity</th><th scope=col>citric.acid</th><th scope=col>residual.sugar</th><th scope=col>chlorides</th><th scope=col>free.sulfur.dioxide</th><th scope=col>total.sulfur.dioxide</th><th scope=col>density</th><th scope=col>pH</th><th scope=col>sulphates</th><th scope=col>alcohol</th></tr>\n",
       "\t<tr><th scope=col>&lt;dbl&gt;</th><th scope=col>&lt;dbl&gt;</th><th scope=col>&lt;dbl&gt;</th><th scope=col>&lt;dbl&gt;</th><th scope=col>&lt;dbl&gt;</th><th scope=col>&lt;dbl&gt;</th><th scope=col>&lt;dbl&gt;</th><th scope=col>&lt;dbl&gt;</th><th scope=col>&lt;dbl&gt;</th><th scope=col>&lt;dbl&gt;</th><th scope=col>&lt;dbl&gt;</th></tr>\n",
       "</thead>\n",
       "<tbody>\n",
       "\t<tr><td>75.02757</td><td>0.5296491</td><td>0.2715539</td><td>26.72013</td><td>0.08636591</td><td>16.87803</td><td>46.28655</td><td>0.996762</td><td>296.6124</td><td>0.6577193</td><td>1.088833e+12</td></tr>\n",
       "</tbody>\n",
       "</table>\n"
      ],
      "text/latex": [
       "A tibble: 1 × 11\n",
       "\\begin{tabular}{lllllllllll}\n",
       " fixed.acidity & volatile.acidity & citric.acid & residual.sugar & chlorides & free.sulfur.dioxide & total.sulfur.dioxide & density & pH & sulphates & alcohol\\\\\n",
       " <dbl> & <dbl> & <dbl> & <dbl> & <dbl> & <dbl> & <dbl> & <dbl> & <dbl> & <dbl> & <dbl>\\\\\n",
       "\\hline\n",
       "\t 75.02757 & 0.5296491 & 0.2715539 & 26.72013 & 0.08636591 & 16.87803 & 46.28655 & 0.996762 & 296.6124 & 0.6577193 & 1.088833e+12\\\\\n",
       "\\end{tabular}\n"
      ],
      "text/markdown": [
       "\n",
       "A tibble: 1 × 11\n",
       "\n",
       "| fixed.acidity &lt;dbl&gt; | volatile.acidity &lt;dbl&gt; | citric.acid &lt;dbl&gt; | residual.sugar &lt;dbl&gt; | chlorides &lt;dbl&gt; | free.sulfur.dioxide &lt;dbl&gt; | total.sulfur.dioxide &lt;dbl&gt; | density &lt;dbl&gt; | pH &lt;dbl&gt; | sulphates &lt;dbl&gt; | alcohol &lt;dbl&gt; |\n",
       "|---|---|---|---|---|---|---|---|---|---|---|\n",
       "| 75.02757 | 0.5296491 | 0.2715539 | 26.72013 | 0.08636591 | 16.87803 | 46.28655 | 0.996762 | 296.6124 | 0.6577193 | 1.088833e+12 |\n",
       "\n"
      ],
      "text/plain": [
       "  fixed.acidity volatile.acidity citric.acid residual.sugar chlorides \n",
       "1 75.02757      0.5296491        0.2715539   26.72013       0.08636591\n",
       "  free.sulfur.dioxide total.sulfur.dioxide density  pH       sulphates\n",
       "1 16.87803            46.28655             0.996762 296.6124 0.6577193\n",
       "  alcohol     \n",
       "1 1.088833e+12"
      ]
     },
     "metadata": {},
     "output_type": "display_data"
    }
   ],
   "source": [
    "wine_train_avg <- wine_train |> \n",
    "  summarize(across(fixed.acidity:alcohol, mean))\n",
    "\n",
    "wine_train_avg"
   ]
  },
  {
   "cell_type": "markdown",
   "id": "90eb0961-2354-43fa-970d-c35df592fc7c",
   "metadata": {},
   "source": [
    "**Next, we use `group_by` + `summarize` to find out the distribution of each of our target variable (quality).**"
   ]
  },
  {
   "cell_type": "code",
   "execution_count": 18,
   "id": "df30150b-669e-41cc-8f48-62cd60ed9e70",
   "metadata": {},
   "outputs": [
    {
     "data": {
      "text/html": [
       "<table class=\"dataframe\">\n",
       "<caption>A tibble: 6 × 2</caption>\n",
       "<thead>\n",
       "\t<tr><th scope=col>quality</th><th scope=col>n</th></tr>\n",
       "\t<tr><th scope=col>&lt;fct&gt;</th><th scope=col>&lt;int&gt;</th></tr>\n",
       "</thead>\n",
       "<tbody>\n",
       "\t<tr><td>3</td><td>  9</td></tr>\n",
       "\t<tr><td>4</td><td> 43</td></tr>\n",
       "\t<tr><td>5</td><td>504</td></tr>\n",
       "\t<tr><td>6</td><td>477</td></tr>\n",
       "\t<tr><td>7</td><td>149</td></tr>\n",
       "\t<tr><td>8</td><td> 15</td></tr>\n",
       "</tbody>\n",
       "</table>\n"
      ],
      "text/latex": [
       "A tibble: 6 × 2\n",
       "\\begin{tabular}{ll}\n",
       " quality & n\\\\\n",
       " <fct> & <int>\\\\\n",
       "\\hline\n",
       "\t 3 &   9\\\\\n",
       "\t 4 &  43\\\\\n",
       "\t 5 & 504\\\\\n",
       "\t 6 & 477\\\\\n",
       "\t 7 & 149\\\\\n",
       "\t 8 &  15\\\\\n",
       "\\end{tabular}\n"
      ],
      "text/markdown": [
       "\n",
       "A tibble: 6 × 2\n",
       "\n",
       "| quality &lt;fct&gt; | n &lt;int&gt; |\n",
       "|---|---|\n",
       "| 3 |   9 |\n",
       "| 4 |  43 |\n",
       "| 5 | 504 |\n",
       "| 6 | 477 |\n",
       "| 7 | 149 |\n",
       "| 8 |  15 |\n",
       "\n"
      ],
      "text/plain": [
       "  quality n  \n",
       "1 3         9\n",
       "2 4        43\n",
       "3 5       504\n",
       "4 6       477\n",
       "5 7       149\n",
       "6 8        15"
      ]
     },
     "metadata": {},
     "output_type": "display_data"
    }
   ],
   "source": [
    "target <- wine_train |>\n",
    "    group_by(quality) |>\n",
    "    summarize(n=n())\n",
    "target"
   ]
  },
  {
   "cell_type": "markdown",
   "id": "c88d2e7b-2d95-465f-8fc0-a40aa9d7edcb",
   "metadata": {},
   "source": [
    "To better"
   ]
  },
  {
   "cell_type": "code",
   "execution_count": 37,
   "id": "d8a7b22e-e2ee-4df5-b334-ca5c6b3872d0",
   "metadata": {},
   "outputs": [
    {
     "data": {
      "image/png": "[encoded data removed]",
      "text/plain": [
       "plot without title"
      ]
     },
     "metadata": {
      "image/png": {
       "height": 330,
       "width": 360
      }
     },
     "output_type": "display_data"
    }
   ],
   "source": [
    "options(repr.plot.width = 6, repr.plot.height = 5.5)\n",
    "\n",
    "plot <- ggplot(target, aes(x = quality, y = n)) +\n",
    "  geom_bar(stat = \"identity\") +\n",
    "  labs(x = \"Wine Quality (0-10)\", y = \"Number of Observations\") +\n",
    "  ggtitle(\"Distribution of Each Class Variable\") +\n",
    "  theme(text = element_text(size = 14))\n",
    "plot\n"
   ]
  },
  {
   "cell_type": "code",
   "execution_count": 55,
   "id": "0d19950f-b58c-401b-bea6-91f50ecb77c1",
   "metadata": {},
   "outputs": [
    {
     "data": {
      "image/png": "[encoded data removed]",
      "text/plain": [
       "plot without title"
      ]
     },
     "metadata": {
      "image/png": {
       "height": 330,
       "width": 360
      }
     },
     "output_type": "display_data"
    }
   ],
   "source": [
    "graph <- ggplot(wine_train, aes(x = fixed.acidity, y =quality)) +\n",
    "geom_point() \n",
    "graph"
   ]
  },
  {
   "cell_type": "code",
   "execution_count": 56,
   "id": "b42d96e9-5364-46bb-9c41-766712a458c4",
   "metadata": {},
   "outputs": [
    {
     "data": {
      "image/png": "[encoded data removed]",
      "text/plain": [
       "plot without title"
      ]
     },
     "metadata": {
      "image/png": {
       "height": 330,
       "width": 360
      }
     },
     "output_type": "display_data"
    }
   ],
   "source": [
    "graph2 <- ggplot(wine_train, aes(x = citric.acid, y =quality)) +\n",
    "geom_point()\n",
    "\n",
    "graph2"
   ]
  },
  {
   "cell_type": "markdown",
   "id": "6099f982-7e7b-42e6-92d1-f9d954ce5dac",
   "metadata": {},
   "source": [
    "Study the dataset comes from -\n",
    "Modeling wine preferences by data mining from physicochemical properties - Paulo Cortez, António Cerdeir, Fernando Almeida, Telmo Matos, José Reis\n",
    "https://www.sciencedirect.com/science/article/pii/S0167923609001377?via%3Dihub "
   ]
  },
  {
   "cell_type": "code",
   "execution_count": null,
   "id": "311a9d33-7d52-4465-989d-8301b9f328ef",
   "metadata": {},
   "outputs": [],
   "source": []
  }
 ],
 "metadata": {
  "kernelspec": {
   "display_name": "R",
   "language": "R",
   "name": "ir"
  },
  "language_info": {
   "codemirror_mode": "r",
   "file_extension": ".r",
   "mimetype": "text/x-r-source",
   "name": "R",
   "pygments_lexer": "r",
   "version": "4.1.3"
  }
 },
 "nbformat": 4,
 "nbformat_minor": 5
}

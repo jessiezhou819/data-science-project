{
 "cells": [
  {
   "cell_type": "markdown",
   "id": "ca8cca9c-8b7b-4516-8c2b-63fbd334f2a1",
   "metadata": {},
   "source": [
    "# Wine Quality Data Set\n",
    "<img src=\"https://archive.ics.uci.edu/ml/assets/MLimages/Large186.jpg\" width = \"100\"/>"
   ]
  },
  {
   "cell_type": "markdown",
   "id": "bb2b9a8a-2a3e-4ffd-a2f0-3fc40f223e30",
   "metadata": {},
   "source": []
  }
 ],
 "metadata": {
  "kernelspec": {
   "display_name": "R",
   "language": "R",
   "name": "ir"
  },
  "language_info": {
   "codemirror_mode": "r",
   "file_extension": ".r",
   "mimetype": "text/x-r-source",
   "name": "R",
   "pygments_lexer": "r",
   "version": "4.1.3"
  }
 },
 "nbformat": 4,
 "nbformat_minor": 5
}
